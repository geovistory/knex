{
 "cells": [
  {
   "cell_type": "code",
   "execution_count": 1,
   "metadata": {},
   "outputs": [
    {
     "name": "stdout",
     "output_type": "stream",
     "text": [
      "[DB] Requests will not be executed\n",
      "[DB] Connecting to YELLOW database \"switzerland_and_beyond\" ... Connected!\n"
     ]
    }
   ],
   "source": [
    "import geovpylib.database as db\n",
    "\n",
    "\n",
    "db.connect_yellow('switzerland_and_beyond', False)"
   ]
  },
  {
   "cell_type": "code",
   "execution_count": 3,
   "metadata": {},
   "outputs": [
    {
     "data": {
      "text/html": [
       "<div>\n",
       "<style scoped>\n",
       "    .dataframe tbody tr th:only-of-type {\n",
       "        vertical-align: middle;\n",
       "    }\n",
       "\n",
       "    .dataframe tbody tr th {\n",
       "        vertical-align: top;\n",
       "    }\n",
       "\n",
       "    .dataframe thead th {\n",
       "        text-align: right;\n",
       "    }\n",
       "</style>\n",
       "<table border=\"1\" class=\"dataframe\">\n",
       "  <thead>\n",
       "    <tr style=\"text-align: right;\">\n",
       "      <th></th>\n",
       "      <th>url</th>\n",
       "      <th>name</th>\n",
       "      <th>notice</th>\n",
       "    </tr>\n",
       "  </thead>\n",
       "  <tbody>\n",
       "    <tr>\n",
       "      <th>0</th>\n",
       "      <td>https://hls-dhs-dss.ch/fr/articles/023622</td>\n",
       "      <td>Dubois, René</td>\n",
       "      <td>Naît le 17.8.1905 aux Verrières, meurt le 16.1...</td>\n",
       "    </tr>\n",
       "    <tr>\n",
       "      <th>1</th>\n",
       "      <td>https://hls-dhs-dss.ch/fr/articles/012414</td>\n",
       "      <td>Niklaus von Wyle</td>\n",
       "      <td>Naît vers 1415 à Bremgarten (AG), meurt le 13....</td>\n",
       "    </tr>\n",
       "    <tr>\n",
       "      <th>2</th>\n",
       "      <td>https://hls-dhs-dss.ch/fr/articles/012496</td>\n",
       "      <td>Baselwind, Diebold</td>\n",
       "      <td>Mentionné pour la première fois le 19.3.1329 c...</td>\n",
       "    </tr>\n",
       "    <tr>\n",
       "      <th>3</th>\n",
       "      <td>https://hls-dhs-dss.ch/fr/articles/023373</td>\n",
       "      <td>Burckhardt, Emanuel</td>\n",
       "      <td>Naît le 25.11.1744 à Bâle, meurt le 21.5.1820 ...</td>\n",
       "    </tr>\n",
       "    <tr>\n",
       "      <th>4</th>\n",
       "      <td>https://hls-dhs-dss.ch/fr/articles/023462</td>\n",
       "      <td>Cuénoud, Bernard</td>\n",
       "      <td>Naît le 2.3.1899 à Lausanne, meurt le 26.5.198...</td>\n",
       "    </tr>\n",
       "    <tr>\n",
       "      <th>...</th>\n",
       "      <td>...</td>\n",
       "      <td>...</td>\n",
       "      <td>...</td>\n",
       "    </tr>\n",
       "    <tr>\n",
       "      <th>24961</th>\n",
       "      <td>https://hls-dhs-dss.ch/fr/articles/032684</td>\n",
       "      <td>Urech, Rudolf</td>\n",
       "      <td>Naît le 1.4.1815 à Niederhallwil (commune de H...</td>\n",
       "    </tr>\n",
       "    <tr>\n",
       "      <th>24962</th>\n",
       "      <td>https://hls-dhs-dss.ch/fr/articles/016178</td>\n",
       "      <td>Vallotton, Benjamin</td>\n",
       "      <td>Naît le 10.1.1877 à Gryon, meurt le 19.5.1962 ...</td>\n",
       "    </tr>\n",
       "    <tr>\n",
       "      <th>24963</th>\n",
       "      <td>https://hls-dhs-dss.ch/fr/articles/046341</td>\n",
       "      <td>Van der Vinne, Vincent</td>\n",
       "      <td>Naît le 11.10.1629 à Haarlem (Pays-Bas), meurt...</td>\n",
       "    </tr>\n",
       "    <tr>\n",
       "      <th>24964</th>\n",
       "      <td>https://hls-dhs-dss.ch/fr/articles/032869</td>\n",
       "      <td>Anthamatten, Karl</td>\n",
       "      <td>Naît le 27.4.1897 à Viège, meurt le 28.11.1957...</td>\n",
       "    </tr>\n",
       "    <tr>\n",
       "      <th>24965</th>\n",
       "      <td>https://hls-dhs-dss.ch/fr/articles/045456</td>\n",
       "      <td>Ursprung, Alfred</td>\n",
       "      <td>Naît le 22.12.1876 à Bâle, meurt le 21.4.1952 ...</td>\n",
       "    </tr>\n",
       "  </tbody>\n",
       "</table>\n",
       "<p>24966 rows × 3 columns</p>\n",
       "</div>"
      ],
      "text/plain": [
       "                                             url                    name  \\\n",
       "0      https://hls-dhs-dss.ch/fr/articles/023622            Dubois, René   \n",
       "1      https://hls-dhs-dss.ch/fr/articles/012414        Niklaus von Wyle   \n",
       "2      https://hls-dhs-dss.ch/fr/articles/012496      Baselwind, Diebold   \n",
       "3      https://hls-dhs-dss.ch/fr/articles/023373     Burckhardt, Emanuel   \n",
       "4      https://hls-dhs-dss.ch/fr/articles/023462        Cuénoud, Bernard   \n",
       "...                                          ...                     ...   \n",
       "24961  https://hls-dhs-dss.ch/fr/articles/032684           Urech, Rudolf   \n",
       "24962  https://hls-dhs-dss.ch/fr/articles/016178     Vallotton, Benjamin   \n",
       "24963  https://hls-dhs-dss.ch/fr/articles/046341  Van der Vinne, Vincent   \n",
       "24964  https://hls-dhs-dss.ch/fr/articles/032869       Anthamatten, Karl   \n",
       "24965  https://hls-dhs-dss.ch/fr/articles/045456        Ursprung, Alfred   \n",
       "\n",
       "                                                  notice  \n",
       "0      Naît le 17.8.1905 aux Verrières, meurt le 16.1...  \n",
       "1      Naît vers 1415 à Bremgarten (AG), meurt le 13....  \n",
       "2      Mentionné pour la première fois le 19.3.1329 c...  \n",
       "3      Naît le 25.11.1744 à Bâle, meurt le 21.5.1820 ...  \n",
       "4      Naît le 2.3.1899 à Lausanne, meurt le 26.5.198...  \n",
       "...                                                  ...  \n",
       "24961  Naît le 1.4.1815 à Niederhallwil (commune de H...  \n",
       "24962  Naît le 10.1.1877 à Gryon, meurt le 19.5.1962 ...  \n",
       "24963  Naît le 11.10.1629 à Haarlem (Pays-Bas), meurt...  \n",
       "24964  Naît le 27.4.1897 à Viège, meurt le 28.11.1957...  \n",
       "24965  Naît le 22.12.1876 à Bâle, meurt le 21.4.1952 ...  \n",
       "\n",
       "[24966 rows x 3 columns]"
      ]
     },
     "metadata": {},
     "output_type": "display_data"
    }
   ],
   "source": [
    "persons = db.query(\"select url, name, notice from hls.person\")\n",
    "\n",
    "display(persons)"
   ]
  },
  {
   "cell_type": "code",
   "execution_count": 11,
   "metadata": {},
   "outputs": [],
   "source": [
    "# build notices\n",
    "\n",
    "persons['name2'] = [(name.split(',')[1].strip() + ' ' + name.split(',')[0].strip()) if ',' in name else name for name in persons['name']]\n",
    "\n",
    "persons['notice2'] = [row['name2'] + ':\\n' + row['notice'] for _, row in persons.iterrows()]"
   ]
  },
  {
   "cell_type": "code",
   "execution_count": 13,
   "metadata": {},
   "outputs": [],
   "source": [
    "persons = persons[['url', 'name2', 'notice2']]\n",
    "persons.columns = ['url', 'name', 'notice']"
   ]
  },
  {
   "cell_type": "code",
   "execution_count": 15,
   "metadata": {},
   "outputs": [],
   "source": [
    "persons.to_csv('hls_persons', index=False)"
   ]
  },
  {
   "cell_type": "code",
   "execution_count": null,
   "metadata": {},
   "outputs": [],
   "source": []
  }
 ],
 "metadata": {
  "kernelspec": {
   "display_name": "Python 3",
   "language": "python",
   "name": "python3"
  },
  "language_info": {
   "codemirror_mode": {
    "name": "ipython",
    "version": 3
   },
   "file_extension": ".py",
   "mimetype": "text/x-python",
   "name": "python",
   "nbconvert_exporter": "python",
   "pygments_lexer": "ipython3",
   "version": "3.10.14"
  }
 },
 "nbformat": 4,
 "nbformat_minor": 2
}
