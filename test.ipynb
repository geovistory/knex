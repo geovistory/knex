{
 "cells": [
  {
   "cell_type": "code",
   "execution_count": null,
   "metadata": {},
   "outputs": [],
   "source": [
    "import pandas as pd\n",
    "\n",
    "\n",
    "df = [\n",
    "    {'col1':1, 'col2':2, 'col3':3},\n",
    "    {'col1':4, 'col2':5, 'col3':6},\n",
    "    {'col1':7, 'col2':8, 'col3':9},\n",
    "]\n",
    "df = pd.DataFrame(data=df)\n",
    "\n"
   ]
  }
 ],
 "metadata": {
  "kernelspec": {
   "display_name": "Python 3",
   "language": "python",
   "name": "python3"
  },
  "language_info": {
   "name": "python",
   "version": "3.10.13"
  }
 },
 "nbformat": 4,
 "nbformat_minor": 2
}
