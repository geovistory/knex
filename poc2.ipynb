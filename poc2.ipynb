{
 "cells": [
  {
   "cell_type": "code",
   "execution_count": 1,
   "metadata": {},
   "outputs": [],
   "source": [
    "import knex"
   ]
  },
  {
   "cell_type": "code",
   "execution_count": 2,
   "metadata": {},
   "outputs": [],
   "source": [
    "text =  \"Emanuel Burckhardt naît le 25.11.1744 à Bâle, meurt le 21.5.1820 à Palerme, protestant, de Bâle. \" \\\n",
    "        \"Fils de John Doe, lieutenant au service de France. \" \\\n",
    "        \"Marié(e) (1783) à Theresia Münster, de Bâle. \""
   ]
  },
  {
   "cell_type": "code",
   "execution_count": 3,
   "metadata": {},
   "outputs": [
    {
     "name": "stdout",
     "output_type": "stream",
     "text": [
      "-----\n",
      "ASSERTION: birth - Emanuel Burckhardt was born on 25.11.1744 in Basel\n",
      "PARSED: Emanuel Burckhardt was born on 25.11.1744. Emanuel Burckhardt was born in Basel.\n",
      "-----\n",
      "ASSERTION: death - Emanuel Burckhardt died on 21.5.1820 in Palerme\n",
      "PARSED: Emanuel Burckhardt died on 21.5.1820. Emanuel Burckhardt died in Palerme.\n",
      "-----\n",
      "ASSERTION: religion - Emanuel Burckhardt was a protestant\n",
      "PARSED: Emanuel Burckhardt was (a) protestant.\n",
      "-----\n",
      "ASSERTION: nationality - Emanuel Burckhardt was from Basel\n",
      "[KNEX-INFO]: Missing Topic Schema <nationality>.\n",
      "-----\n",
      "ASSERTION: family - Emanuel Burckhardt was the son of John Doe\n",
      "[KNEX-INFO]: Missing Topic Schema <family>.\n",
      "-----\n",
      "ASSERTION: job - John Doe was a lieutenant in service to France\n",
      "[KNEX-INFO]: Missing Topic Schema <job>.\n",
      "-----\n",
      "ASSERTION: marriage - Emanuel Burckhardt married Theresia Münster on 1783 in Basel\n",
      "[KNEX-INFO]: Missing Topic Schema <marriage>.\n"
     ]
    }
   ],
   "source": [
    "assertions = knex.get_assertions(text)\n",
    "\n",
    "for assertion in assertions:\n",
    "    # print('-----')\n",
    "    # print('ASSERTION:', assertion.topic, '-', assertion.text)\n",
    "    obj = knex.extract_schema(assertion)\n",
    "    # if obj: print('PARSED:', obj.explicit())\n",
    "    "
   ]
  }
 ],
 "metadata": {
  "kernelspec": {
   "display_name": "Python 3",
   "language": "python",
   "name": "python3"
  },
  "language_info": {
   "codemirror_mode": {
    "name": "ipython",
    "version": 3
   },
   "file_extension": ".py",
   "mimetype": "text/x-python",
   "name": "python",
   "nbconvert_exporter": "python",
   "pygments_lexer": "ipython3",
   "version": "3.10.14"
  }
 },
 "nbformat": 4,
 "nbformat_minor": 2
}
