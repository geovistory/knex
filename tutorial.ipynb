{
 "cells": [
  {
   "cell_type": "markdown",
   "metadata": {},
   "source": [
    "# Knex extraction"
   ]
  },
  {
   "cell_type": "code",
   "execution_count": null,
   "metadata": {},
   "outputs": [],
   "source": [
    "import knex\n",
    "\n",
    "knex.init('ollama', 'llama3.1', 'http://localhost:11434') # Local LLM (direct)\n",
    "# knex.init('ollama', 'llama3.1', 'http://127.0.0.1:5000') # Local LLM (through proxy)\n",
    "# knex.init('openai', 'gpt-4o') # OPENAI llm\n",
    "\n",
    "text = \"\"\"\n",
    "René Dubois naît le 17.8.1905 aux Verrières, et meurt le 16.11.1976 à Marin-Epagnier, protestant, de Buttes.\n",
    "Fils d'Henri Adolphe, fonctionnaire postal.\n",
    "Marié(e) à Suzanne Mina Arnoux, Française, fille de Jules Cyprien.\n",
    "Licence en sciences économiques à Neuchâtel.\n",
    "Officier instructeur dès 1929.\n",
    "Chef d'état-major des troupes d'aviation et de DCA (1953-1955).\n",
    "Commandant de la brigade légère 1, de la division 2 (1958-1961), du corps d'armée de campagne 1 (1962-1967).\n",
    "\"\"\".strip()\n",
    "\n",
    "# Extract the information from the text\n",
    "information = knex.extraction(text)\n",
    "\n",
    "# Analyze the extracted information\n",
    "info_dfs = information.dataframes()\n",
    "for key in info_dfs.keys():\n",
    "    print(key)\n",
    "    display(info_dfs[key])"
   ]
  },
  {
   "cell_type": "markdown",
   "metadata": {},
   "source": [
    "# Knex knowledge"
   ]
  },
  {
   "cell_type": "code",
   "execution_count": null,
   "metadata": {},
   "outputs": [],
   "source": [
    "# Transform the extracted information into a graph\n",
    "graph = knex.knowledge(information)\n",
    "\n",
    "# Get the full generated graph in a global dataframe\n",
    "graph_df = graph.to_dataframe()\n",
    "graph_df.to_csv( './graph.csv', index=False)\n",
    "\n",
    "# Visualize the generated graph\n",
    "graph.get_visuals('./graph.html')"
   ]
  },
  {
   "cell_type": "markdown",
   "metadata": {},
   "source": [
    "# Knex full pipeline"
   ]
  },
  {
   "cell_type": "code",
   "execution_count": null,
   "metadata": {},
   "outputs": [],
   "source": [
    "import knex\n",
    "\n",
    "knex.init('ollama', 'llama3.1', 'http://localhost:11434') # Local LLM (direct)\n",
    "# knex.init('ollama', 'llama3.1', 'http://127.0.0.1:5000') # Local LLM (through proxy)\n",
    "# knex.init('openai', 'gpt-4o') # OPENAI llm\n",
    "\n",
    "text = \"\"\"\n",
    "René Dubois naît le 17.8.1905 aux Verrières, et meurt le 16.11.1976 à Marin-Epagnier, protestant, de Buttes.\n",
    "Fils d'Henri Adolphe, fonctionnaire postal.\n",
    "Marié(e) à Suzanne Mina Arnoux, Française, fille de Jules Cyprien.\n",
    "Licence en sciences économiques à Neuchâtel.\n",
    "Officier instructeur dès 1929.\n",
    "Chef d'état-major des troupes d'aviation et de DCA (1953-1955).\n",
    "Commandant de la brigade légère 1, de la division 2 (1958-1961), du corps d'armée de campagne 1 (1962-1967).\n",
    "\"\"\".strip()\n",
    "\n",
    "# Execute the full pipeline\n",
    "graph = knex.knowledge_extraction(text, verbose=True)\n",
    "\n",
    "# Results\n",
    "graph_df = graph.to_dataframe()\n",
    "graph_df.to_csv('./graph.csv', index=False)\n",
    "\n",
    "# Visualize the generated graph\n",
    "graph.get_visuals('./graph.html')"
   ]
  }
 ],
 "metadata": {
  "kernelspec": {
   "display_name": "Python 3",
   "language": "python",
   "name": "python3"
  },
  "language_info": {
   "codemirror_mode": {
    "name": "ipython",
    "version": 3
   },
   "file_extension": ".py",
   "mimetype": "text/x-python",
   "name": "python",
   "nbconvert_exporter": "python",
   "pygments_lexer": "ipython3",
   "version": "3.10.14"
  }
 },
 "nbformat": 4,
 "nbformat_minor": 2
}
