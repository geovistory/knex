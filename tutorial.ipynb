{
 "cells": [
  {
   "cell_type": "markdown",
   "metadata": {},
   "source": [
    "# Detailed usage of the library"
   ]
  },
  {
   "cell_type": "markdown",
   "metadata": {},
   "source": [
    "**Setup**"
   ]
  },
  {
   "cell_type": "code",
   "execution_count": 6,
   "metadata": {},
   "outputs": [],
   "source": [
    "import knex\n",
    "\n",
    "knex.init('ollama', 'llama3.1', 'http://localhost:11434') # Local LLM (direct)\n",
    "# knex.init('ollama', 'llama3.1', 'http://127.0.0.1:5000') # Local LLM (through proxy)\n",
    "# knex.init('openai', 'gpt-4o') # OPENAI llm\n",
    "\n",
    "text = \"\"\"\n",
    "René Dubois naît le 17.8.1905 aux Verrières, et meurt le 16.11.1976 à Marin-Epagnier, protestant, de Buttes.\n",
    "Fils d'Henri Adolphe, fonctionnaire postal.\n",
    "Marié(e) à Suzanne Mina Arnoux, Française, fille de Jules Cyprien.\n",
    "Licence en sciences économiques à Neuchâtel.\n",
    "Officier instructeur dès 1929.\n",
    "Chef d'état-major des troupes d'aviation et de DCA (1953-1955).\n",
    "Commandant de la brigade légère 1, de la division 2 (1958-1961), du corps d'armée de campagne 1 (1962-1967).\n",
    "\"\"\".strip()"
   ]
  },
  {
   "cell_type": "markdown",
   "metadata": {},
   "source": [
    "**Extraction part**"
   ]
  },
  {
   "cell_type": "code",
   "execution_count": null,
   "metadata": {},
   "outputs": [],
   "source": [
    "# Extract the information from the text\n",
    "information = knex.extraction(text)\n",
    "\n",
    "# Analyze the extracted information\n",
    "info_dfs = information.dataframes()\n",
    "for key in info_dfs.keys():\n",
    "    print(key)\n",
    "    display(info_dfs[key])"
   ]
  },
  {
   "cell_type": "markdown",
   "metadata": {},
   "source": [
    "**Knowledge part**"
   ]
  },
  {
   "cell_type": "code",
   "execution_count": null,
   "metadata": {},
   "outputs": [],
   "source": [
    "# Transform the extracted information into a graph\n",
    "graph = knex.knowledge(information)\n",
    "\n",
    "# Analyze created entities and triples, and ontology\n",
    "entities, triples, classes, properties = graph.dataframes()\n",
    "\n",
    "# Save the dataframes\n",
    "entities.to_csv('entities.csv', index=False)\n",
    "triples.to_csv('triples.csv', index=False)\n",
    "classes.to_csv('classes.csv', index=False)\n",
    "properties.to_csv('properties.csv', index=False)\n",
    "\n",
    "# Get the full generated graph in a global dataframe\n",
    "graph_df = graph.to_dataframe()\n",
    "graph_df.to_csv( './graph.csv', index=False)\n",
    "\n",
    "# Visualize the generated graph\n",
    "graph.get_visuals('./graph.html')\n",
    "\n",
    "# Save the graph on disk\n",
    "graph.save('./graph.pkl')"
   ]
  },
  {
   "cell_type": "markdown",
   "metadata": {},
   "source": [
    "# Full pipeline of the library"
   ]
  },
  {
   "cell_type": "code",
   "execution_count": null,
   "metadata": {},
   "outputs": [],
   "source": [
    "import knex\n",
    "\n",
    "knex.init('ollama', 'llama3.1', 'http://localhost:11434') # Local LLM (direct)\n",
    "# knex.init('ollama', 'llama3.1', 'http://127.0.0.1:5000') # Local LLM (through proxy)\n",
    "# knex.init('openai', 'gpt-4o') # OPENAI llm\n",
    "\n",
    "text = \"\"\"\n",
    "René Dubois naît le 17.8.1905 aux Verrières, et meurt le 16.11.1976 à Marin-Epagnier, protestant, de Buttes.\n",
    "Fils d'Henri Adolphe, fonctionnaire postal.\n",
    "Marié(e) à Suzanne Mina Arnoux, Française, fille de Jules Cyprien.\n",
    "Licence en sciences économiques à Neuchâtel.\n",
    "Officier instructeur dès 1929.\n",
    "Chef d'état-major des troupes d'aviation et de DCA (1953-1955).\n",
    "Commandant de la brigade légère 1, de la division 2 (1958-1961), du corps d'armée de campagne 1 (1962-1967).\n",
    "\"\"\".strip()\n",
    "\n",
    "# Execute the full pipeline\n",
    "graph = knex.knowledge_extraction(text, verbose=False)\n",
    "\n",
    "\n",
    "# # Results\n",
    "graph.to_dataframe().to_csv('./graph.csv', index=False)\n",
    "graph.get_visuals('./graph.html')\n",
    "graph.save('./graph.pkl')"
   ]
  },
  {
   "cell_type": "markdown",
   "metadata": {},
   "source": [
    "# Batch executions"
   ]
  },
  {
   "cell_type": "markdown",
   "metadata": {},
   "source": [
    "**Setup**"
   ]
  },
  {
   "cell_type": "code",
   "execution_count": 4,
   "metadata": {},
   "outputs": [],
   "source": [
    "import os, sys\n",
    "from langchain_community.callbacks.manager import get_openai_callback\n",
    "import knex\n",
    "import geovpylib.database as db\n",
    "import gmpykit as kit\n",
    "from datetime import datetime\n",
    "\n",
    "eta = kit.Eta()\n",
    "knex.init('ollama', 'llama3.1', 'http://localhost:11434') # Local LLM (direct)\n",
    "# knex.init('ollama', 'llama3.1', 'http://127.0.0.1:5000') # Local LLM (through proxy)\n",
    "# knex.init('openai', 'gpt-4o') # OPENAI llm\n",
    "db.connect_yellow('switzerland_and_beyond')"
   ]
  },
  {
   "cell_type": "markdown",
   "metadata": {},
   "source": [
    "**Text gathering**"
   ]
  },
  {
   "cell_type": "code",
   "execution_count": 5,
   "metadata": {},
   "outputs": [],
   "source": [
    "table = db.query('select url, name, notice from hls.person')\n",
    "texts = table.sample(2, random_state=42).copy()\n",
    "\n",
    "texts['notice'] = texts['name'] + ':\\n' + texts['notice']\n",
    "texts.reset_index(inplace=True, drop=True)"
   ]
  },
  {
   "cell_type": "markdown",
   "metadata": {},
   "source": [
    "**Execution**"
   ]
  },
  {
   "cell_type": "code",
   "execution_count": 6,
   "metadata": {},
   "outputs": [],
   "source": [
    "begin_time = datetime.now()\n",
    "with get_openai_callback() as cb:\n",
    "    eta.begin(len(texts), 'Run KNEX')\n",
    "    for _, text in texts.iterrows():\n",
    "\n",
    "        # Prepare disk\n",
    "        dir_name = 'knex_poc_hls_extract'\n",
    "        file_name = kit.to_snake_case(text['name'])\n",
    "        root_path = f'./{dir_name}/{file_name}/'\n",
    "        if not os.path.exists(root_path): os.mkdir(root_path)\n",
    "        with open(root_path + 'log.txt', 'w') as file:\n",
    "\n",
    "            # initialize logs\n",
    "            file.write(text['url'])\n",
    "            file.write('\\n\\n' + kit.wrap(text['notice']))\n",
    "            file.write('\\n\\n---------------\\n\\n')\n",
    "\n",
    "            # Redirect logs to a file\n",
    "            sys.stdout = file\n",
    "\n",
    "            # Extract the information\n",
    "            graph = knex.knowledge_extraction(text, verbose=True)\n",
    "\n",
    "            # Save the result\n",
    "            sys.stdout = open(os.devnull, 'w')\n",
    "            graph.get_visuals(root_path + 'graph.html')\n",
    "            sys.stdout = sys.__stdout__\n",
    "            df = graph.to_dataframe()\n",
    "            df.to_csv(root_path + 'graph.csv')\n",
    "        eta.iter()\n",
    "    eta.end()\n",
    "    end_time = datetime.now()\n",
    "\n",
    "    print()\n",
    "    print(f'FOR {len(texts)} PERSONS:')\n",
    "    print(f\"Total Tokens: {cb.total_tokens}\")\n",
    "    print(f\"Prompt Tokens: {cb.prompt_tokens}\")\n",
    "    print(f\"Completion Tokens: {cb.completion_tokens}\")\n",
    "    print(f\"Total Cost (USD): ${cb.total_cost}\")\n",
    "    print(f\"Total execution time: {end_time - begin_time}\")\n",
    "    print()\n",
    "    print('AVERAGE FOR 1 PERSON')\n",
    "    print(f\"Total Tokens: {cb.total_tokens / len(texts)}\")\n",
    "    print(f\"Prompt Tokens: {cb.prompt_tokens / len(texts)}\")\n",
    "    print(f\"Completion Tokens: {cb.completion_tokens / len(texts)}\")\n",
    "    print(f\"Total Cost (USD): ${cb.total_cost / len(texts)}\")\n",
    "    print(f\"Total execution time: {(end_time - begin_time) / len(texts)}\")\n",
    "    print()\n",
    "    print('ESTIMATION FOR THE FULL HLS')\n",
    "    print(f\"Total Tokens: {(cb.total_tokens / len(texts)) * len(table)}\")\n",
    "    print(f\"Prompt Tokens: {(cb.prompt_tokens / len(texts)) * len(table)}\")\n",
    "    print(f\"Completion Tokens: {(cb.completion_tokens / len(texts)) * len(table)}\")\n",
    "    print(f\"Total Cost (USD): ${(cb.total_cost / len(texts)) * len(table)}\")\n",
    "    print(f\"Total execution time: {((end_time - begin_time) / len(texts)) * len(table)}\")\n"
   ]
  }
 ],
 "metadata": {
  "kernelspec": {
   "display_name": "Python 3",
   "language": "python",
   "name": "python3"
  },
  "language_info": {
   "codemirror_mode": {
    "name": "ipython",
    "version": 3
   },
   "file_extension": ".py",
   "mimetype": "text/x-python",
   "name": "python",
   "nbconvert_exporter": "python",
   "pygments_lexer": "ipython3",
   "version": "3.10.14"
  }
 },
 "nbformat": 4,
 "nbformat_minor": 2
}
